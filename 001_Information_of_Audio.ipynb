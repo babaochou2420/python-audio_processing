{
  "nbformat": 4,
  "nbformat_minor": 0,
  "metadata": {
    "colab": {
      "provenance": []
    },
    "kernelspec": {
      "name": "python3",
      "display_name": "Python 3"
    },
    "language_info": {
      "name": "python"
    }
  },
  "cells": [
    {
      "cell_type": "markdown",
      "source": [
        "# 前言"
      ],
      "metadata": {
        "id": "kZf8YX9K1yg1"
      }
    },
    {
      "cell_type": "markdown",
      "source": [
        "x"
      ],
      "metadata": {
        "id": "-FgMEh-52B6E"
      }
    },
    {
      "cell_type": "markdown",
      "source": [
        "\n",
        "\n",
        "---\n",
        "\n"
      ],
      "metadata": {
        "id": "zR7MBW5i2YdF"
      }
    },
    {
      "cell_type": "markdown",
      "source": [
        "# 目標\n"
      ],
      "metadata": {
        "id": "Sv6bVk5e2ST9"
      }
    },
    {
      "cell_type": "markdown",
      "source": [
        "x"
      ],
      "metadata": {
        "id": "zFOv-Jwb2WHG"
      }
    },
    {
      "cell_type": "markdown",
      "source": [
        "# 大綱"
      ],
      "metadata": {
        "id": "n8Jf7fnD2H_0"
      }
    },
    {
      "cell_type": "markdown",
      "source": [
        "x"
      ],
      "metadata": {
        "id": "xBiw0lzx2KWk"
      }
    },
    {
      "cell_type": "markdown",
      "source": [
        "\n",
        "\n",
        "---\n",
        "\n"
      ],
      "metadata": {
        "id": "OxAzq_yg2dsV"
      }
    },
    {
      "cell_type": "markdown",
      "source": [
        "# 實作流程"
      ],
      "metadata": {
        "id": "kKz45_Ss177Y"
      }
    },
    {
      "cell_type": "code",
      "execution_count": null,
      "metadata": {
        "id": "6Wnb4VWi0f2d"
      },
      "outputs": [],
      "source": [
        "# 安裝必要套件\n",
        "!pip install -q librosa==0.10.1\n",
        "!pip install -q matplotlib==3.8.3"
      ]
    },
    {
      "cell_type": "code",
      "source": [],
      "metadata": {
        "id": "K-4zH4Nt1-32"
      },
      "execution_count": null,
      "outputs": []
    },
    {
      "cell_type": "markdown",
      "source": [
        "\n",
        "\n",
        "---\n",
        "\n"
      ],
      "metadata": {
        "id": "bl98irk32ldU"
      }
    },
    {
      "cell_type": "markdown",
      "source": [
        "# 參考資料"
      ],
      "metadata": {
        "id": "DwSc8d4W2gYU"
      }
    },
    {
      "cell_type": "markdown",
      "source": [
        "x"
      ],
      "metadata": {
        "id": "eKDRqoBw2iF9"
      }
    },
    {
      "cell_type": "markdown",
      "source": [
        "# 延伸閱讀\n"
      ],
      "metadata": {
        "id": "cGi1A0gr2itM"
      }
    },
    {
      "cell_type": "markdown",
      "source": [
        "x"
      ],
      "metadata": {
        "id": "7CyfsKXO2kpN"
      }
    }
  ]
}